{
 "cells": [
  {
   "cell_type": "markdown",
   "id": "985a1c2c-2f14-4f63-8323-de5593618140",
   "metadata": {},
   "source": [
    "[![Open in SageMaker Studio Lab](https://studiolab.sagemaker.aws/studiolab.svg)](https://studiolab.sagemaker.aws/import/github/<your-org>/<your-repo-name>/blob/<your-branch-name>/<path-to-your-notebook>/<your-notebook.ipynb>)"
   ]
  },
  {
   "cell_type": "markdown",
   "id": "6d695ca3",
   "metadata": {},
   "source": [
    "# Your First Machine Model: Predicting Eaten By Bears!\n",
    "\n",
    "Important!  Before running this notebook, open a terminal window and run the following commands:\n",
    "\n",
    "`pip install names && python ./bearStatsGenerator.py --rows 32000 --outfile ./EatenByBearData.csv`\n",
    "\n",
    "The above command will generate some synthetic data for us to use in our model training.\n",
    "\n",
    "If you are running this notebook, you must be worried about BEAR ATTACKS!  In this notebook, we will use the power of machine learning to build a model to detect if we are about to be eaten by bears!"
   ]
  },
  {
   "cell_type": "markdown",
   "id": "02d82684-9bbc-419b-8874-256c6cdedd48",
   "metadata": {},
   "source": [
    "First, we will add a Python package to allow us to visialize our data before training our model:"
   ]
  },
  {
   "cell_type": "code",
   "execution_count": null,
   "id": "18fabbf1-53e9-4b79-917a-5e3dae3949c6",
   "metadata": {
    "scrolled": true,
    "tags": []
   },
   "outputs": [],
   "source": [
    "%pip install seaborn"
   ]
  },
  {
   "cell_type": "markdown",
   "id": "0e7b26d9",
   "metadata": {},
   "source": [
    "Next, we import python packages into our runtime environment."
   ]
  },
  {
   "cell_type": "code",
   "execution_count": 1,
   "id": "e458b6fa-6669-4c38-9bd6-ca451893fa6e",
   "metadata": {},
   "outputs": [],
   "source": [
    "import pandas as pd\n",
    "from sklearn.model_selection import train_test_split\n",
    "from sklearn.linear_model import LogisticRegression\n",
    "from sklearn import preprocessing\n",
    "from sklearn.metrics import accuracy_score, classification_report, confusion_matrix\n",
    "from matplotlib import pyplot as plt\n",
    "import seaborn as sns"
   ]
  },
  {
   "cell_type": "markdown",
   "id": "c4ec013a",
   "metadata": {},
   "source": [
    "Next, we import our data file into a Pandas Data Frame.  This allows us to work with the data in memory.  We then display some data about our data to see what we are working with."
   ]
  },
  {
   "cell_type": "code",
   "execution_count": null,
   "id": "629d9649-4ae3-40b4-bb1d-6acd7868a918",
   "metadata": {
    "tags": []
   },
   "outputs": [],
   "source": [
    "df = pd.read_csv('EatenByBearData.csv')\n",
    "df.info()\n",
    "df.head()"
   ]
  },
  {
   "cell_type": "markdown",
   "id": "d9096bbe",
   "metadata": {},
   "source": [
    "We also check for any duplicate rows and if they are present, drop them from our data frame."
   ]
  },
  {
   "cell_type": "code",
   "execution_count": 3,
   "id": "83b45cb8-bc20-4973-8e36-f5f2044b53f2",
   "metadata": {},
   "outputs": [],
   "source": [
    "sum(df.duplicated())\n",
    "df.drop_duplicates(inplace=True)"
   ]
  },
  {
   "cell_type": "markdown",
   "id": "892dffd6",
   "metadata": {},
   "source": [
    "Since some of our data is categorical, which is to say a column (or feature) that includes a discrete list of values, we break those individual categories into their own categories."
   ]
  },
  {
   "cell_type": "code",
   "execution_count": 4,
   "id": "03b76e72-8135-4e22-83a7-6bf0a0efa0bd",
   "metadata": {
    "tags": []
   },
   "outputs": [],
   "source": [
    "df[['colorOne', 'colorTwo', 'colorThree']] = df['colorsWorn'].str.split(',', expand=True)"
   ]
  },
  {
   "cell_type": "markdown",
   "id": "67817817",
   "metadata": {},
   "source": [
    "Now that we have our colors worn into their own categories, we can encode those string values into numeric values.  Our chosen machine learning model, Logistic Regression, operates best with numeric values."
   ]
  },
  {
   "cell_type": "code",
   "execution_count": 5,
   "id": "a52a74cd-a521-451a-8c06-24181a198ec0",
   "metadata": {},
   "outputs": [],
   "source": [
    "df[['colorOne', 'colorTwo', 'colorThree']] = df[['colorOne', 'colorTwo', 'colorThree']].apply(lambda x: x.astype('category'))"
   ]
  },
  {
   "cell_type": "markdown",
   "id": "09a96ce5",
   "metadata": {},
   "source": [
    "Next, we do a similar transofrmation on our boolean values, changing to True/False to more computational-friendly 1/0 values"
   ]
  },
  {
   "cell_type": "code",
   "execution_count": 6,
   "id": "206b205c-7ba3-412d-af4f-7a31ec56c2b5",
   "metadata": {},
   "outputs": [],
   "source": [
    "df.combatTraining = df.combatTraining.replace({True: 1, False: 0})\n",
    "df.hasBearSpray = df.hasBearSpray.replace({True: 1, False: 0})\n",
    "df.eatenByBear = df.eatenByBear.replace({True: 1, False: 0})"
   ]
  },
  {
   "cell_type": "markdown",
   "id": "994cfe2e",
   "metadata": {},
   "source": [
    "Checking through our data, there are several values that don't seem to add a lot of value to our model, so before training, we drop them."
   ]
  },
  {
   "cell_type": "code",
   "execution_count": null,
   "id": "74963f44-e42e-4f12-a03f-6be317150ff7",
   "metadata": {
    "tags": []
   },
   "outputs": [],
   "source": [
    "df.drop(['name', 'birthDate', 'colorsWorn', ], axis=1, inplace=True, errors='ignore')"
   ]
  },
  {
   "cell_type": "markdown",
   "id": "212643fb",
   "metadata": {},
   "source": [
    "For our colors, we can use pandas data frames object to encode those categories into numerical values."
   ]
  },
  {
   "cell_type": "code",
   "execution_count": 8,
   "id": "0db266f3-ff80-484a-b0e7-2ab4eac73635",
   "metadata": {},
   "outputs": [],
   "source": [
    "df[\"colorOne\"] = df[\"colorOne\"].cat.codes\n",
    "df[\"colorTwo\"] = df[\"colorTwo\"].cat.codes\n",
    "df[\"colorThree\"] = df[\"colorThree\"].cat.codes"
   ]
  },
  {
   "cell_type": "markdown",
   "id": "2bb48041",
   "metadata": {},
   "source": [
    "Lets check out our data again now that we have done our feature engineering to see what we are working with."
   ]
  },
  {
   "cell_type": "code",
   "execution_count": null,
   "id": "9be27bc3-0297-4fab-aeb0-9e30c770b3b5",
   "metadata": {},
   "outputs": [],
   "source": [
    "df.head()"
   ]
  },
  {
   "cell_type": "markdown",
   "id": "d3cd1c83",
   "metadata": {},
   "source": [
    "Next we identify which values in our tabular data set are the X values or the features we will use for training and which is our Y value, or the one we are trying to predict."
   ]
  },
  {
   "cell_type": "code",
   "execution_count": 10,
   "id": "858ef2ff-1d17-44fc-9ecb-20914580f946",
   "metadata": {},
   "outputs": [],
   "source": [
    "X = df.iloc[:,df.columns != 'eatenByBear']\n",
    "y = df.eatenByBear"
   ]
  },
  {
   "cell_type": "markdown",
   "id": "3963e4ef",
   "metadata": {},
   "source": [
    "Next we split our data into data sets for training and testing along our X and Y axis.  Training data is used by pour model to learn what we want to predict.  Test data is never seen in the training process, but represented a simulation what live prediction requests would look like."
   ]
  },
  {
   "cell_type": "code",
   "execution_count": 11,
   "id": "cc130995-8c78-4ab6-a16e-b44f9379e1ed",
   "metadata": {},
   "outputs": [],
   "source": [
    "X_train, X_test, y_train, y_test = train_test_split(\n",
    "X, y, test_size=0.20, random_state=5, stratify=y)"
   ]
  },
  {
   "cell_type": "code",
   "execution_count": 12,
   "id": "d131b974-e017-477d-aadd-92e4440c7cdd",
   "metadata": {},
   "outputs": [],
   "source": [
    "scaler = preprocessing.StandardScaler().fit(X_train)\n",
    "X_train_scaled = scaler.transform(X_train)"
   ]
  },
  {
   "cell_type": "markdown",
   "id": "6926b308",
   "metadata": {},
   "source": [
    "Here we plot our dataset out a few different ways to see what our distribution is and how the different columns/features relate to each other"
   ]
  },
  {
   "cell_type": "code",
   "execution_count": null,
   "id": "502f42f3-2d23-4f50-96bd-915ee04dc898",
   "metadata": {},
   "outputs": [],
   "source": [
    "import matplotlib.colors as mcolors\n",
    "colors = list(mcolors.CSS4_COLORS.keys())[10:]\n",
    "def draw_histograms(dataframe, features, rows, cols):\n",
    "    fig=plt.figure(figsize=(20,20))\n",
    "    for i, feature in enumerate(features):\n",
    "        ax=fig.add_subplot(rows,cols,i+1)\n",
    "        dataframe[feature].hist(bins=20,ax=ax,facecolor=colors[i])\n",
    "        ax.set_title(feature+\" Histogram\",color=colors[35])\n",
    "        ax.set_yscale('log')\n",
    "    fig.tight_layout() \n",
    "    plt.savefig('Histograms.png')\n",
    "    plt.show()\n",
    "draw_histograms(df,df.columns,8,4)"
   ]
  },
  {
   "cell_type": "code",
   "execution_count": null,
   "id": "bb58bbde-a7c0-4e18-bfcd-b828f5ecbea3",
   "metadata": {},
   "outputs": [],
   "source": [
    "plt.figure(figsize = (38,16))\n",
    "sns.heatmap(df.corr(), annot = True)\n",
    "plt.savefig('heatmap.png')\n",
    "plt.show()"
   ]
  },
  {
   "cell_type": "code",
   "execution_count": 15,
   "id": "2cfc0f29-12d5-40fe-9702-ae30cae0edaf",
   "metadata": {},
   "outputs": [],
   "source": [
    "model = LogisticRegression()"
   ]
  },
  {
   "cell_type": "markdown",
   "id": "b8372b21",
   "metadata": {},
   "source": [
    "Above we identify the type of model we want to use to solve our problem, logistic regression (sometimes called Binary Classification) and below, we call the .fit function to start training our model."
   ]
  },
  {
   "cell_type": "code",
   "execution_count": null,
   "id": "3de2dd15-ab6f-4b7e-bacc-6dbd9f94893f",
   "metadata": {},
   "outputs": [],
   "source": [
    "model.fit(X_train_scaled, y_train)"
   ]
  },
  {
   "cell_type": "markdown",
   "id": "0e35f8b2",
   "metadata": {},
   "source": [
    "Now with an (albeit quickly) trained model, we check to see, using our test data, how accurate our model is.  Since this is synthetic random data, we expect that our accuracy never exceeds ~50%."
   ]
  },
  {
   "cell_type": "code",
   "execution_count": null,
   "id": "603431aa-663b-48dd-b36d-763ea8617477",
   "metadata": {},
   "outputs": [],
   "source": [
    "train_acc = model.score(X_train_scaled, y_train)\n",
    "print(\"The Accuracy for Training Set is {}\".format(train_acc*100))"
   ]
  },
  {
   "cell_type": "code",
   "execution_count": null,
   "id": "181e1455-524f-408e-8d6b-1a29aff07fa6",
   "metadata": {},
   "outputs": [],
   "source": [
    "y_pred = model.predict(X_test)\n",
    "test_acc = accuracy_score(y_test, y_pred)\n",
    "print(\"The Accuracy for Test Set is {}\".format(test_acc*100))"
   ]
  },
  {
   "cell_type": "markdown",
   "id": "dd3f02e8",
   "metadata": {},
   "source": [
    "Lastly we check our classification report to see the overall evaluations made my our test data.  How many did we get right and how many did we get wrong."
   ]
  },
  {
   "cell_type": "code",
   "execution_count": null,
   "id": "1f30e1bf-d060-4b63-9ecb-9faddf7fc918",
   "metadata": {},
   "outputs": [],
   "source": [
    "print(classification_report(y_test, y_pred))"
   ]
  },
  {
   "cell_type": "code",
   "execution_count": null,
   "id": "b955cc4f-dd45-4984-afff-3a1c7433b4e8",
   "metadata": {},
   "outputs": [],
   "source": [
    "cm=confusion_matrix(y_test,y_pred)\n",
    "plt.figure(figsize=(12,6))\n",
    "plt.title(\"Confusion Matrix\")\n",
    "sns.heatmap(cm, annot=True,fmt='d', cmap='Blues')\n",
    "plt.ylabel(\"Actual Values\")\n",
    "plt.xlabel(\"Predicted Values\")\n",
    "plt.savefig('confusion_matrix.png')"
   ]
  },
  {
   "cell_type": "code",
   "execution_count": null,
   "id": "11cfcd4b-3e12-4cbf-85b1-22c1857364d3",
   "metadata": {},
   "outputs": [],
   "source": []
  }
 ],
 "metadata": {
  "kernelspec": {
   "display_name": "Python 3.9.13 64-bit",
   "language": "python",
   "name": "python3"
  },
  "language_info": {
   "codemirror_mode": {
    "name": "ipython",
    "version": 3
   },
   "file_extension": ".py",
   "mimetype": "text/x-python",
   "name": "python",
   "nbconvert_exporter": "python",
   "pygments_lexer": "ipython3",
   "version": "3.9.13"
  },
  "vscode": {
   "interpreter": {
    "hash": "aee8b7b246df8f9039afb4144a1f6fd8d2ca17a180786b69acc140d282b71a49"
   }
  }
 },
 "nbformat": 4,
 "nbformat_minor": 5
}
